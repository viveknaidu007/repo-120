{
 "cells": [
  {
   "cell_type": "code",
   "execution_count": null,
   "metadata": {},
   "outputs": [],
   "source": [
    "# displaying dynamic content using admin panel"
   ]
  },
  {
   "cell_type": "code",
   "execution_count": null,
   "metadata": {},
   "outputs": [],
   "source": [
    "#continue with 8,9,"
   ]
  },
  {
   "cell_type": "code",
   "execution_count": null,
   "metadata": {},
   "outputs": [],
   "source": [
    "from django.contrib import admin\n",
    "from .product import Product\n",
    "from .category import Category\n",
    "\n",
    "#register ur model here.\n",
    "class Categoryinfo(admin.ModelAdmin):\n",
    "    list_display=['name']\n",
    "class Productinfo(admin.ModelAdmin):\n",
    "    list_display=['name','']\n",
    "\n",
    "admin.site.register(Product)\n",
    "admin.site.register(Category,Categoryinfo)"
   ]
  }
 ],
 "metadata": {
  "language_info": {
   "name": "python"
  }
 },
 "nbformat": 4,
 "nbformat_minor": 2
}
