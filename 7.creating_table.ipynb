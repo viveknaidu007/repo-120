{
 "cells": [
  {
   "cell_type": "code",
   "execution_count": null,
   "metadata": {},
   "outputs": [],
   "source": [
    "# shop.models.py"
   ]
  },
  {
   "cell_type": "code",
   "execution_count": null,
   "metadata": {},
   "outputs": [],
   "source": [
    "#before :\n",
    "\n",
    "from django.db import models\n",
    "\n",
    "# Create your models here.\n"
   ]
  },
  {
   "cell_type": "code",
   "execution_count": null,
   "metadata": {},
   "outputs": [],
   "source": [
    "#after :\n",
    "\n",
    "from django.db import models\n",
    "\n",
    "# Create your models here.\n",
    "class Product(models.Model):\n",
    "    name=models.CharField(max_length=30)\n",
    "    image=models.ImageField(upload_to='img')\n",
    "    desc=models.TextField()\n",
    "    price=models.IntegerField()"
   ]
  },
  {
   "cell_type": "code",
   "execution_count": 1,
   "metadata": {},
   "outputs": [
    {
     "name": "stdout",
     "output_type": "stream",
     "text": [
      "Collecting pillow\n",
      "  Using cached pillow-10.3.0-cp310-cp310-win_amd64.whl.metadata (9.4 kB)\n",
      "Using cached pillow-10.3.0-cp310-cp310-win_amd64.whl (2.5 MB)\n",
      "Installing collected packages: pillow\n",
      "Successfully installed pillow-10.3.0\n"
     ]
    },
    {
     "name": "stderr",
     "output_type": "stream",
     "text": [
      "ERROR: pip's dependency resolver does not currently take into account all the packages that are installed. This behaviour is the source of the following dependency conflicts.\n",
      "object-detection 0.0.3 requires jupyter, which is not installed.\n",
      "object-detection 0.0.3 requires lxml, which is not installed.\n",
      "object-detection 0.0.3 requires matplotlib, which is not installed.\n"
     ]
    }
   ],
   "source": [
    "# install pillow library in temrinal\n",
    "\n",
    "!pip install pillow"
   ]
  },
  {
   "cell_type": "code",
   "execution_count": null,
   "metadata": {},
   "outputs": [],
   "source": [
    "# now go this : https://docs.djangoproject.com/en/5.0/howto/static-files/\n",
    "\n",
    "# do according to this"
   ]
  },
  {
   "cell_type": "code",
   "execution_count": null,
   "metadata": {},
   "outputs": [],
   "source": [
    "#before : \n",
    "\n",
    "# Default primary key field type\n",
    "# https://docs.djangoproject.com/en/5.0/ref/settings/#default-auto-field\n",
    "\n",
    "DEFAULT_AUTO_FIELD = \"django.db.models.BigAutoField\"\n"
   ]
  },
  {
   "cell_type": "code",
   "execution_count": null,
   "metadata": {},
   "outputs": [],
   "source": [
    "#aafter : \n",
    "\n",
    "# Default primary key field type\n",
    "# https://docs.djangoproject.com/en/5.0/ref/settings/#default-auto-field\n",
    "\n",
    "DEFAULT_AUTO_FIELD = \"django.db.models.BigAutoField\"\n",
    "\n",
    "MEDIA_URL='media/'\n",
    "\n",
    "MEDIA_ROOT=os.path.join(BASE_DIR,'media')\n"
   ]
  },
  {
   "cell_type": "code",
   "execution_count": null,
   "metadata": {},
   "outputs": [],
   "source": [
    "# now: mystore.urls.py \n",
    "\n",
    "#before :\n",
    "\n",
    "from django.contrib import admin\n",
    "from django.urls import path,include\n",
    "\n",
    "urlpatterns = [\n",
    "    path(\"admin/\", admin.site.urls),\n",
    "    path('',include('shop.urls'))\n",
    "]\n"
   ]
  },
  {
   "cell_type": "code",
   "execution_count": null,
   "metadata": {},
   "outputs": [],
   "source": [
    "#after:\n",
    "\n",
    "from django.contrib import admin\n",
    "from django.urls import path,include\n",
    "from django.conf import settings\n",
    "from django.conf.urls.static import static\n",
    "\n",
    "\n",
    "urlpatterns = [\n",
    "    path(\"admin/\", admin.site.urls),\n",
    "    path('',include('shop.urls'))\n",
    "] + static(settings.STATIC_URL, document_root=settings.STATIC_ROOT)\n"
   ]
  },
  {
   "cell_type": "code",
   "execution_count": null,
   "metadata": {},
   "outputs": [],
   "source": [
    "# we have to update settings.py . we to giv eour app name\n",
    "\n",
    "#before:\n",
    "\n",
    "INSTALLED_APPS = [\n",
    "    \"django.contrib.admin\",\n",
    "    \"django.contrib.auth\",\n",
    "    \"django.contrib.contenttypes\",\n",
    "    \"django.contrib.sessions\",\n",
    "    \"django.contrib.messages\",\n",
    "    \"django.contrib.staticfiles\",\n",
    "]\n",
    "\n"
   ]
  },
  {
   "cell_type": "code",
   "execution_count": null,
   "metadata": {},
   "outputs": [],
   "source": [
    "#after :\n",
    "\n",
    "INSTALLED_APPS = [\n",
    "    \"django.contrib.admin\",\n",
    "    \"django.contrib.auth\",\n",
    "    \"django.contrib.contenttypes\",\n",
    "    \"django.contrib.sessions\",\n",
    "    \"django.contrib.messages\",\n",
    "    \"django.contrib.staticfiles\",\n",
    "    \"shop.apps.ShopConfig\",\n",
    "]\n",
    "\n"
   ]
  },
  {
   "cell_type": "code",
   "execution_count": null,
   "metadata": {},
   "outputs": [],
   "source": [
    "# now we have to update the admin also \n",
    "\n",
    "# shop.admin.py"
   ]
  },
  {
   "cell_type": "code",
   "execution_count": null,
   "metadata": {},
   "outputs": [],
   "source": [
    "#before:\n",
    "\n",
    "from django.contrib import admin\n",
    "\n",
    "# Register your models here.\n"
   ]
  },
  {
   "cell_type": "code",
   "execution_count": null,
   "metadata": {},
   "outputs": [],
   "source": [
    "#after :\n",
    "\n",
    "from django.contrib import admin\n",
    "from .models import Product\n",
    "# Register your models here.\n",
    "\n",
    "admin.site.register(Product)\n"
   ]
  },
  {
   "cell_type": "code",
   "execution_count": null,
   "metadata": {},
   "outputs": [],
   "source": [
    "# after doing abovea ll\n",
    "\n",
    "#do \n",
    "\n",
    "# python manage.py makemigrations\n",
    "# python manage.py migrate"
   ]
  },
  {
   "cell_type": "code",
   "execution_count": null,
   "metadata": {},
   "outputs": [],
   "source": [
    "# and run the server\n",
    "\n",
    "# python manage.py runserver"
   ]
  },
  {
   "cell_type": "code",
   "execution_count": null,
   "metadata": {},
   "outputs": [],
   "source": [
    "# now go to the : http://127.0.0.1:8000/admin/\n",
    "\n",
    "# heer eu can able to see the table we crate din admin database"
   ]
  }
 ],
 "metadata": {
  "kernelspec": {
   "display_name": "django",
   "language": "python",
   "name": "python3"
  },
  "language_info": {
   "codemirror_mode": {
    "name": "ipython",
    "version": 3
   },
   "file_extension": ".py",
   "mimetype": "text/x-python",
   "name": "python",
   "nbconvert_exporter": "python",
   "pygments_lexer": "ipython3",
   "version": "3.10.14"
  }
 },
 "nbformat": 4,
 "nbformat_minor": 2
}
