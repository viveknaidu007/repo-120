{
 "cells": [
  {
   "cell_type": "code",
   "execution_count": null,
   "metadata": {},
   "outputs": [],
   "source": []
  },
  {
   "cell_type": "code",
   "execution_count": null,
   "metadata": {},
   "outputs": [],
   "source": [
    "# https://www.w3schools.com/sql/sql_foreignkey.asp"
   ]
  },
  {
   "cell_type": "code",
   "execution_count": null,
   "metadata": {},
   "outputs": [],
   "source": [
    "# we r creating an product and category files i nshop\n",
    "\n",
    "#"
   ]
  },
  {
   "cell_type": "code",
   "execution_count": null,
   "metadata": {},
   "outputs": [],
   "source": [
    "#category.py\n",
    "\n",
    "from django.db import models\n",
    "\n",
    "#create\n",
    "class Category(models.Model):\n",
    "    name=models.Charfield(max_length=20)"
   ]
  },
  {
   "cell_type": "code",
   "execution_count": null,
   "metadata": {},
   "outputs": [],
   "source": [
    "#product.py\n",
    "\n",
    "from django.db import models\n",
    "from category import Category\n",
    "\n",
    "\n",
    "# Create your models here.\n",
    "class Product(models.Model):\n",
    "    name=models.CharField(max_length=30)\n",
    "    category=models.ForeignKey(Category,on_delete=models.CASCADE,default=1)\n",
    "    image=models.ImageField(upload_to='img')\n",
    "    desc=models.TextField()\n",
    "    price=models.IntegerField()\n",
    "\n",
    "    "
   ]
  },
  {
   "cell_type": "code",
   "execution_count": null,
   "metadata": {},
   "outputs": [],
   "source": [
    "# models.py:\n",
    "\n",
    "from django.db import models\n",
    "\n",
    "# Create your models here.\n",
    "\n",
    "class Product(models.Model):\n",
    "    name=models.CharField(max_length=30)\n",
    "    image=models.ImageField(upload_to='img')\n",
    "    desc=models.TextField()\n",
    "    price=models.IntegerField()"
   ]
  },
  {
   "cell_type": "code",
   "execution_count": null,
   "metadata": {},
   "outputs": [],
   "source": [
    "# admin.py:\n",
    "\n",
    "from django.contrib import admin\n",
    "from .models import Product\n",
    "from .category import Category\n",
    "# Register your models here.\n",
    "\n",
    "admin.site.register(Product)\n",
    "admin.site.register(Category)\n"
   ]
  }
 ],
 "metadata": {
  "language_info": {
   "name": "python"
  }
 },
 "nbformat": 4,
 "nbformat_minor": 2
}
