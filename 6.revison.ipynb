{
 "cells": [
  {
   "cell_type": "code",
   "execution_count": null,
   "metadata": {},
   "outputs": [],
   "source": [
    "# hence we learned :\n",
    "\n",
    "# 1. installing python and django\n",
    "# 2. creating project\n",
    "# 3. visual studio installation\n",
    "# 4. creating app and URL setting\n",
    "# 5 .creating super user and Admin login"
   ]
  }
 ],
 "metadata": {
  "language_info": {
   "name": "python"
  }
 },
 "nbformat": 4,
 "nbformat_minor": 2
}
